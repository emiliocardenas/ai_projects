{
  "nbformat": 4,
  "nbformat_minor": 0,
  "metadata": {
    "colab": {
      "provenance": []
    },
    "kernelspec": {
      "name": "python3",
      "display_name": "Python 3"
    },
    "language_info": {
      "name": "python"
    }
  },
  "cells": [
    {
      "cell_type": "markdown",
      "source": [
        "Complete the code in the blocks below. Do not alter blocks that indicate that they should not be changed.\n",
        "\n",
        "Look for blocks that say \"FILL IN THIS SECTION\"\n",
        "\n"
      ],
      "metadata": {
        "id": "VYMgQxFewYaR"
      }
    },
    {
      "cell_type": "markdown",
      "source": [
        "**FILL IN THIS SECTION**\n",
        "\n",
        "Author(s): Emilio Cardenas Palomino"
      ],
      "metadata": {
        "id": "NQ2Y7ddT0nfl"
      }
    },
    {
      "cell_type": "code",
      "source": [
        "# Define a node class for a graph\n",
        "# Do Not Change!\n",
        "class GraphNode:\n",
        "  \"\"\"\n",
        "  A node for a simple unweighted graph\n",
        "  \"\"\"\n",
        "  def __init__(self, name: str)-> None:\n",
        "    self.name = name\n",
        "    self.neighbors = []\n",
        "    self.weights = []\n",
        "\n",
        "def add_neighbor(a: GraphNode, b: GraphNode, weight: int) -> None:\n",
        "  a.neighbors.append(b)\n",
        "  a.weights.append(weight)\n",
        "  b.neighbors.append(a)\n",
        "  b.weights.append(weight)"
      ],
      "metadata": {
        "id": "FbiGrHE7oOIf"
      },
      "execution_count": null,
      "outputs": []
    },
    {
      "cell_type": "code",
      "source": [
        "# Build a small graph\n",
        "# Do Not Change!\n",
        "\n",
        "austin = GraphNode(\"Austin\")\n",
        "georgetown = GraphNode(\"Georgetown\")\n",
        "san_marcos = GraphNode(\"San Marcos\")\n",
        "bastrop = GraphNode(\"Bastrop\")\n",
        "new_braunfels = GraphNode(\"New Braunfels\")\n",
        "temple = GraphNode(\"Temple\")\n",
        "waco = GraphNode(\"Waco\")\n",
        "\n",
        "add_neighbor(austin, georgetown, 32)\n",
        "add_neighbor(georgetown, temple, 41)\n",
        "add_neighbor(austin, bastrop, 30)\n",
        "add_neighbor(bastrop, temple, 75)\n",
        "add_neighbor(temple, waco, 35)\n",
        "add_neighbor(austin, san_marcos, 32)\n",
        "add_neighbor(bastrop, san_marcos, 44)\n",
        "add_neighbor(san_marcos, new_braunfels, 19)\n",
        "\n",
        "map = [austin, georgetown, san_marcos, bastrop, new_braunfels, temple, waco]"
      ],
      "metadata": {
        "id": "KfACl4Cbwetm"
      },
      "execution_count": null,
      "outputs": []
    },
    {
      "cell_type": "code",
      "source": [
        "# FILL IN THIS SECTION\n",
        "# Breadth First Search\n",
        "def uniform_cost(a: GraphNode, b: GraphNode) -> list:\n",
        "  \"\"\"\n",
        "  Implement uniform cost breadth first search as defined in AIMA\n",
        "  Your code should find the shortest path from a to b, starting a search at both\n",
        "  Return a list containg a and b, with the traveled distance connecting them\n",
        "  Return None if no path exists\n",
        "  \"\"\"\n",
        "  # Initialize a priority queue frontier ordered by cost, with node a as the only element\n",
        "  frontier = [(0, a)]\n",
        "\n",
        "  # Initialize an empty set to store explored nodes\n",
        "  explored = set()\n",
        "\n",
        "  # Initialize a dictionary to store parent information, with node a having no parent\n",
        "  parent_map: dict[GraphNode, Optional[GraphNode]] = {a: None}\n",
        "\n",
        "  while frontier:\n",
        "    # Choose the lowest-cost node in frontier\n",
        "    current_cost, current_node = frontier.pop(0)\n",
        "\n",
        "    # Check if the goal node is reached\n",
        "    if current_node == b:\n",
        "      # Reconstruct the path if the goal node is reached\n",
        "      path = [current_node]\n",
        "      while current_node := parent_map.get(current_node, None):\n",
        "        path.append(current_node)\n",
        "      return path[::-1]\n",
        "\n",
        "    # Add current_node to explored set\n",
        "    explored.add(current_node)\n",
        "\n",
        "    # Explore neighbors of current_node\n",
        "    for neighbor, weight in zip(current_node.neighbors, current_node.weights):\n",
        "      if neighbor not in explored:\n",
        "        # Calculate the new cost to reach the neighbor\n",
        "        new_cost = current_cost + weight\n",
        "        # Add the neighbor to the frontier with its updated cost\n",
        "        frontier.append((new_cost, neighbor))\n",
        "\n",
        "        # Store parent information for path reconstruction\n",
        "        if neighbor not in parent_map:\n",
        "          parent_map[neighbor] = current_node\n",
        "\n",
        "    # Sort the frontier based on cost\n",
        "    frontier.sort(key=lambda x: x[0])\n",
        "\n",
        "  # If the loop completes without finding the goal, there is no path\n",
        "  return None"
      ],
      "metadata": {
        "id": "hIzTqVbtuFY3"
      },
      "execution_count": null,
      "outputs": []
    },
    {
      "cell_type": "markdown",
      "source": [
        "Write an implementation for Depth First tree search as defined in our textbook."
      ],
      "metadata": {
        "id": "vo4MObXXwvNq"
      }
    },
    {
      "cell_type": "code",
      "source": [
        "from typing import Optional\n",
        "\n",
        "def depth_limited_search(node: GraphNode, goal: GraphNode, depth_limit: int,\n",
        "                         visited: set) -> Optional[list]:\n",
        "  # Check if the current node is the goal node\n",
        "  if node == goal:\n",
        "    return [node]\n",
        "\n",
        "  # Check if the depth limit is reached\n",
        "  if depth_limit == 0:\n",
        "    return None  # Reached depth limit\n",
        "\n",
        "  # Add the current node to the set of visited nodes\n",
        "  visited.add(node)\n",
        "\n",
        "  # Explore neighbors up to the depth limit\n",
        "  for neighbor in node.neighbors:\n",
        "    # Check if the neighbor has not been visited\n",
        "    if neighbor not in visited:\n",
        "      # Recursively search with decreased depth limit and updated visited set\n",
        "      result = depth_limited_search(neighbor, goal, depth_limit - 1,\n",
        "                                    visited.copy())\n",
        "      if result:\n",
        "        return [node] + result  # Return the solution path if found\n",
        "\n",
        "  return None  # Return None if no solution path is found within the depth limit\n",
        "\n",
        "# FILL IN THIS SECTION\n",
        "# Depth First Search\n",
        "def iterative_deepining(a: GraphNode, b: GraphNode) -> bool:\n",
        "  \"\"\"\n",
        "  Implement iterative deepining depth first search as defined in AIMA\n",
        "  Your code should find the shortest path from a to b, starting a search at both\n",
        "  Return a list containg a and b, with the traveled distance connecting them\n",
        "  Return None if no path exists\n",
        "  \"\"\"\n",
        "  # Initialize depth limit\n",
        "  depth_limit = 0\n",
        "\n",
        "  # Iterate until a solution path is found or the depth limit exceeds the number of neighbors of node 'a'\n",
        "  while True:\n",
        "    # Perform depth-limited search with current depth limit\n",
        "    result = depth_limited_search(a, b, depth_limit, set())\n",
        "\n",
        "    # If a solution path is found, return it\n",
        "    if result:\n",
        "      return result\n",
        "\n",
        "    # Increment depth limit for next iteration\n",
        "    depth_limit += 1\n",
        "\n",
        "    # Break if depth limit becomes too large and no solution is found\n",
        "    if depth_limit > len(a.neighbors):\n",
        "      return None\n"
      ],
      "metadata": {
        "id": "hAjEt9BVuTHa"
      },
      "execution_count": null,
      "outputs": []
    },
    {
      "cell_type": "code",
      "source": [
        "# Checkpoint 1\n",
        "# Do Not Change!\n",
        "\n",
        "# Test Case 1, Austin to San Marcos\n",
        "# expected output [Austin, San Marcos]\n",
        "uc_path = uniform_cost(austin, san_marcos)\n",
        "id_path = iterative_deepining(austin, san_marcos)\n",
        "\n",
        "assert uc_path != None, \"Uniform Cost did not find path\"\n",
        "assert id_path != None, \"Iterative Deepining did not find a path\"\n",
        "assert all([m.name == n.name for m,n in zip(uc_path, id_path)]), \"Different paths encountered\"\n",
        "assert uc_path == [austin, san_marcos], \"Uniform Cost found wrong path\"\n",
        "assert id_path == [austin, san_marcos], \"Iterative Deepining found wrong path\"\n",
        "\n",
        "# Test Case 2, Austin to Dallas\n",
        "# expected output None\n",
        "dallas = GraphNode(\"Dallas\")\n",
        "uc_path = uniform_cost(austin, dallas)\n",
        "id_path = iterative_deepining(austin, dallas)\n",
        "assert uc_path == None, \"Uniform Cost did find path\"\n",
        "assert id_path == None, \"Iterative Deepining did find a path\"\n",
        "\n",
        "# Test Case 3, Temple to New Braunfels\n",
        "# expected output [Temple, Georgetown, Austin, San Marcos, New Braunfels]\n",
        "uc_path = uniform_cost(temple, new_braunfels)\n",
        "id_path = iterative_deepining(temple, new_braunfels)\n",
        "\n",
        "assert uc_path != None, \"Uniform Cost did not find path\"\n",
        "assert id_path != None, \"Iterative Deepining did not find a path\"\n",
        "assert all([m.name == n.name for m,n in zip(uc_path, id_path)]), \"Different paths encountered\"\n",
        "assert uc_path == [temple, georgetown, austin, san_marcos, new_braunfels], \"Uniform Cost found wrong path\"\n",
        "assert id_path == [temple, georgetown, austin, san_marcos, new_braunfels], \"Iterative Deepining found wrong path\"\n"
      ],
      "metadata": {
        "colab": {
          "base_uri": "https://localhost:8080/",
          "height": 250
        },
        "id": "8umXsFVhvMVz",
        "outputId": "9d2236eb-6c4a-4da2-dc05-dee24f909920"
      },
      "execution_count": null,
      "outputs": [
        {
          "output_type": "error",
          "ename": "AssertionError",
          "evalue": "Uniform Cost did not find path",
          "traceback": [
            "\u001b[0;31m---------------------------------------------------------------------------\u001b[0m",
            "\u001b[0;31mAssertionError\u001b[0m                            Traceback (most recent call last)",
            "\u001b[0;32m<ipython-input-40-1ac7cc830e35>\u001b[0m in \u001b[0;36m<cell line: 9>\u001b[0;34m()\u001b[0m\n\u001b[1;32m      7\u001b[0m \u001b[0mid_path\u001b[0m \u001b[0;34m=\u001b[0m \u001b[0miterative_deepining\u001b[0m\u001b[0;34m(\u001b[0m\u001b[0maustin\u001b[0m\u001b[0;34m,\u001b[0m \u001b[0msan_marcos\u001b[0m\u001b[0;34m)\u001b[0m\u001b[0;34m\u001b[0m\u001b[0;34m\u001b[0m\u001b[0m\n\u001b[1;32m      8\u001b[0m \u001b[0;34m\u001b[0m\u001b[0m\n\u001b[0;32m----> 9\u001b[0;31m \u001b[0;32massert\u001b[0m \u001b[0muc_path\u001b[0m \u001b[0;34m!=\u001b[0m \u001b[0;32mNone\u001b[0m\u001b[0;34m,\u001b[0m \u001b[0;34m\"Uniform Cost did not find path\"\u001b[0m\u001b[0;34m\u001b[0m\u001b[0;34m\u001b[0m\u001b[0m\n\u001b[0m\u001b[1;32m     10\u001b[0m \u001b[0;32massert\u001b[0m \u001b[0mid_path\u001b[0m \u001b[0;34m!=\u001b[0m \u001b[0;32mNone\u001b[0m\u001b[0;34m,\u001b[0m \u001b[0;34m\"Iterative Deepining did not find a path\"\u001b[0m\u001b[0;34m\u001b[0m\u001b[0;34m\u001b[0m\u001b[0m\n\u001b[1;32m     11\u001b[0m \u001b[0;32massert\u001b[0m \u001b[0mall\u001b[0m\u001b[0;34m(\u001b[0m\u001b[0;34m[\u001b[0m\u001b[0mm\u001b[0m\u001b[0;34m.\u001b[0m\u001b[0mname\u001b[0m \u001b[0;34m==\u001b[0m \u001b[0mn\u001b[0m\u001b[0;34m.\u001b[0m\u001b[0mname\u001b[0m \u001b[0;32mfor\u001b[0m \u001b[0mm\u001b[0m\u001b[0;34m,\u001b[0m\u001b[0mn\u001b[0m \u001b[0;32min\u001b[0m \u001b[0mzip\u001b[0m\u001b[0;34m(\u001b[0m\u001b[0muc_path\u001b[0m\u001b[0;34m,\u001b[0m \u001b[0mid_path\u001b[0m\u001b[0;34m)\u001b[0m\u001b[0;34m]\u001b[0m\u001b[0;34m)\u001b[0m\u001b[0;34m,\u001b[0m \u001b[0;34m\"Different paths encountered\"\u001b[0m\u001b[0;34m\u001b[0m\u001b[0;34m\u001b[0m\u001b[0m\n",
            "\u001b[0;31mAssertionError\u001b[0m: Uniform Cost did not find path"
          ]
        }
      ]
    },
    {
      "cell_type": "code",
      "source": [
        "# We need a bigger graph...\n",
        "# Do Not Change!\n",
        "\n",
        "from random import randint, sample\n",
        "\n",
        "node_list = [GraphNode(str(i)) for i in range(1000)]\n",
        "\n",
        "for _ in range(50000):\n",
        "  a, b = sample(node_list, 2)\n",
        "  add_neighbor(a, b, randint(10, 500))"
      ],
      "metadata": {
        "id": "VS-oNZMIlP8E"
      },
      "execution_count": null,
      "outputs": []
    },
    {
      "cell_type": "code",
      "source": [
        "# Checkpoint 2\n",
        "# Do Not Change!\n",
        "# Compare runtimes of BFS and DFS\n",
        "from time import perf_counter\n",
        "from random import sample\n",
        "\n",
        "for i in range(5):\n",
        "  print(f\"------Run {i+1}-----\")\n",
        "  a, b = sample(node_list, 2)\n",
        "\n",
        "  start = perf_counter()\n",
        "  path = uniform_cost(a, b)\n",
        "  print(f'BFS runtime: {perf_counter()-start}ms')\n",
        "\n",
        "  start = perf_counter()\n",
        "  path = iterative_deepining(a, b)\n",
        "  print(f'DFS runtime: {perf_counter()-start}ms')\n",
        "  print(f\"Path length: {len(path)-1 if path != None else 0}\")\n"
      ],
      "metadata": {
        "colab": {
          "base_uri": "https://localhost:8080/"
        },
        "id": "XdoiPEsriGmJ",
        "outputId": "05f0615f-e527-4c35-a614-14c50861ca39"
      },
      "execution_count": null,
      "outputs": [
        {
          "output_type": "stream",
          "name": "stdout",
          "text": [
            "------Run 1-----\n",
            "BFS runtime: 2.518000201234827e-06ms\n",
            "DFS runtime: 3.1079998734639958e-06ms\n",
            "Path length: 0\n",
            "------Run 2-----\n",
            "BFS runtime: 7.17000148142688e-07ms\n",
            "DFS runtime: 6.569998731720261e-07ms\n",
            "Path length: 0\n",
            "------Run 3-----\n",
            "BFS runtime: 6.259997462620959e-07ms\n",
            "DFS runtime: 5.849997251061723e-07ms\n",
            "Path length: 0\n",
            "------Run 4-----\n",
            "BFS runtime: 5.950000740995165e-07ms\n",
            "DFS runtime: 5.609999789157882e-07ms\n",
            "Path length: 0\n",
            "------Run 5-----\n",
            "BFS runtime: 5.659999260387849e-07ms\n",
            "DFS runtime: 6.790000952605624e-07ms\n",
            "Path length: 0\n"
          ]
        }
      ]
    },
    {
      "cell_type": "markdown",
      "source": [
        "**ANSWER THE QUESTION BELOW BY TYPING IN THIS BOX.**\n",
        "\n",
        "Read the code in Checkpoint 2 carefully. Estimate values for b, d, and m. Do the observed runtimes for Uniform Cost Search and Iterative Deepening Search correlate with our calculated Big 0 complexities? Using these numbers, can you estimate roughly how long your functions take to \"visit\" one node?\n",
        "\n",
        "The value of b would be the number of egdes divided by the number of nodes. This would be 50000/1000 = 50\n",
        "\n"
      ],
      "metadata": {
        "id": "BgwIJDFS4OzO"
      }
    },
    {
      "cell_type": "code",
      "source": [
        "# FILL IN THIS SECTION\n",
        "# Bidirectional Search\n",
        "def bidirectional_search(a: GraphNode, b: GraphNode) -> list:\n",
        "  \"\"\"\n",
        "  Implement bidirectional search as defined in AIMA\n",
        "  Your code should find the shortest path from a to b, starting a search at both\n",
        "  Return a list containg a and b, with the traveled distance connecting them\n",
        "  Return None if no path exists\n",
        "\n",
        "  You will need to fill in some parts of this algorithm as it is not well-defined\n",
        "  in AIMA.\n",
        "  \"\"\"\n",
        "  return None"
      ],
      "metadata": {
        "id": "d6kr2gZxzm8k"
      },
      "execution_count": null,
      "outputs": []
    },
    {
      "cell_type": "code",
      "source": [
        "#Straight Line Distance funciton\n",
        "#Do Not Change!\n",
        "from math import sqrt\n",
        "\n",
        "positions = {\n",
        "    \"Austin\" : (30.3, 97.7),\n",
        "    \"San Marcos\" : (29.9, 97.9),\n",
        "    \"New Braunfels\": (29.7, 98.1),\n",
        "    \"Bastrop\": (30.1, 97.3),\n",
        "    \"Georgetown\": (30.6, 97.7),\n",
        "    \"Temple\": (31.1, 97.3),\n",
        "    \"Waco\": (31.5, 97.1),\n",
        "}\n",
        "def straight_line_dist(a: GraphNode, b: GraphNode) -> float:\n",
        "  a_pos = positions[a.name]\n",
        "  b_pos = positions[b.name]\n",
        "  return sqrt((a_pos[0] - b_pos[0])**2+(a_pos[0] - b_pos[0])**2)*50.0"
      ],
      "metadata": {
        "id": "00Y5njzU9HBT"
      },
      "execution_count": null,
      "outputs": []
    },
    {
      "cell_type": "code",
      "source": [
        "import heapq\n",
        "\n",
        "\n",
        "# FILL IN THIS SECTION\n",
        "# Greedy Best-First Search\n",
        "def gbf_search(a: GraphNode, b: GraphNode) -> list:\n",
        "  # Check if the start and goal nodes are the same\n",
        "  if start == goal:\n",
        "    return [start]  # Path exists\n",
        "\n",
        "  try:\n",
        "    # Initialize the frontier with the start node and its straight-line distance to the goal\n",
        "    frontier = [(straight_line_dist(start, goal), start)]\n",
        "  except KeyError:\n",
        "    # Return None if the straight-line distance for the start node is not available\n",
        "    return None\n",
        "\n",
        "  # Initialize an empty set to store explored nodes\n",
        "  explored = set()\n",
        "  # Initialize a dictionary to store paths from start to each node\n",
        "  paths = {start: [start]}\n",
        "\n",
        "  # Iterate until the frontier is empty\n",
        "  while frontier:\n",
        "    # Pop the node with the lowest priority from the frontier\n",
        "    _, current = heapq.heappop(frontier)\n",
        "\n",
        "    # Check if the current node is the goal node\n",
        "    if current == goal:\n",
        "      return paths[current]  # Path exists\n",
        "\n",
        "    # Add the current node to the set of explored nodes\n",
        "    explored.add(current)\n",
        "\n",
        "    # Explore neighbors of the current node\n",
        "    for neighbor, _ in zip(current.neighbors, current.weights):\n",
        "      # Check if the neighbor has not been explored\n",
        "      if neighbor not in explored:\n",
        "        try:\n",
        "          # Calculate the priority of the neighbor based on its straight-line distance to the goal\n",
        "          priority = straight_line_dist(neighbor, goal)\n",
        "          # Add the neighbor to the frontier with its priority\n",
        "          heapq.heappush(frontier, (priority, neighbor))\n",
        "          # Update the path to the neighbor\n",
        "          paths[neighbor] = paths[current] + [neighbor]\n",
        "        except KeyError:\n",
        "          # Return None if the straight-line distance for the neighbor is not available\n",
        "          return None\n",
        "\n",
        "  # Return None if no path exists from the start node to the goal node\n",
        "  return None"
      ],
      "metadata": {
        "id": "Q4Rz6DgS0xhy"
      },
      "execution_count": null,
      "outputs": []
    },
    {
      "cell_type": "code",
      "source": [
        "# Checkpoint 3\n",
        "# Do Not Change!\n",
        "\n",
        "# Test Case 1, Austin to San Marcos\n",
        "# expected output [Austin, San Marcos]\n",
        "bd_path = bidirectional_search(austin, san_marcos)\n",
        "gbf_path = gbf_search(austin, san_marcos)\n",
        "\n",
        "assert bd_path != None, \"Bidirectional did not find path\"\n",
        "assert gbf_path != None, \"Greedy Breadth First did not find a path\"\n",
        "assert all([m.name == n.name for m,n in zip(bd_path, gbf_path)]), \"Different paths encountered\"\n",
        "assert bd_path == [austin, san_marcos], \"Bidirectional found wrong path\"\n",
        "assert gbf_path == [austin, san_marcos], \"Greedy Breadth First found wrong path\"\n",
        "\n",
        "# Test Case 2, Austin to Dallas\n",
        "# expected output None\n",
        "dallas = GraphNode(\"Dallas\")\n",
        "bd_path = bidirectional_search(austin, dallas)\n",
        "gbf_path = gbf_search(austin, dallas)\n",
        "\n",
        "assert bd_path == None, \"Bidirectional did find path\"\n",
        "assert gbf_path == None, \"Greedy Breadth First did find a path\"\n",
        "\n",
        "# Test Case 3, Temple to New Braunfels\n",
        "# expected output [Temple, Georgetown, Austin, San Marcos, New Braunfels]\n",
        "bd_path = bidirectional_search(temple, new_braunfels)\n",
        "gbf_path = gbf_search(temple, new_braunfels)\n",
        "\n",
        "assert bd_path != None, \"Bidirectional did not find path\"\n",
        "assert gbf_path != None, \"Greedy Breadth First did not find a path\"\n",
        "assert all([m.name == n.name for m,n in zip(bd_path, gbf_path)]), \"Different paths encountered\"\n",
        "assert bd_path == [temple, georgetown, austin, san_marcos, new_braunfels], \"Bidirectional found wrong path\"\n",
        "assert gbf_path == [temple, georgetown, austin, san_marcos, new_braunfels], \"Greedy Breadth First found wrong path\"\n"
      ],
      "metadata": {
        "colab": {
          "base_uri": "https://localhost:8080/",
          "height": 250
        },
        "id": "Gro7L_C81JNI",
        "outputId": "0a65c291-4db7-45f5-f937-75947ce23917"
      },
      "execution_count": null,
      "outputs": [
        {
          "output_type": "error",
          "ename": "AssertionError",
          "evalue": "Bidirectional did not find path",
          "traceback": [
            "\u001b[0;31m---------------------------------------------------------------------------\u001b[0m",
            "\u001b[0;31mAssertionError\u001b[0m                            Traceback (most recent call last)",
            "\u001b[0;32m<ipython-input-60-a72841eda71d>\u001b[0m in \u001b[0;36m<cell line: 9>\u001b[0;34m()\u001b[0m\n\u001b[1;32m      7\u001b[0m \u001b[0mgbf_path\u001b[0m \u001b[0;34m=\u001b[0m \u001b[0mgbf_search\u001b[0m\u001b[0;34m(\u001b[0m\u001b[0maustin\u001b[0m\u001b[0;34m,\u001b[0m \u001b[0msan_marcos\u001b[0m\u001b[0;34m)\u001b[0m\u001b[0;34m\u001b[0m\u001b[0;34m\u001b[0m\u001b[0m\n\u001b[1;32m      8\u001b[0m \u001b[0;34m\u001b[0m\u001b[0m\n\u001b[0;32m----> 9\u001b[0;31m \u001b[0;32massert\u001b[0m \u001b[0mbd_path\u001b[0m \u001b[0;34m!=\u001b[0m \u001b[0;32mNone\u001b[0m\u001b[0;34m,\u001b[0m \u001b[0;34m\"Bidirectional did not find path\"\u001b[0m\u001b[0;34m\u001b[0m\u001b[0;34m\u001b[0m\u001b[0m\n\u001b[0m\u001b[1;32m     10\u001b[0m \u001b[0;32massert\u001b[0m \u001b[0mgbf_path\u001b[0m \u001b[0;34m!=\u001b[0m \u001b[0;32mNone\u001b[0m\u001b[0;34m,\u001b[0m \u001b[0;34m\"Greedy Breadth First did not find a path\"\u001b[0m\u001b[0;34m\u001b[0m\u001b[0;34m\u001b[0m\u001b[0m\n\u001b[1;32m     11\u001b[0m \u001b[0;32massert\u001b[0m \u001b[0mall\u001b[0m\u001b[0;34m(\u001b[0m\u001b[0;34m[\u001b[0m\u001b[0mm\u001b[0m\u001b[0;34m.\u001b[0m\u001b[0mname\u001b[0m \u001b[0;34m==\u001b[0m \u001b[0mn\u001b[0m\u001b[0;34m.\u001b[0m\u001b[0mname\u001b[0m \u001b[0;32mfor\u001b[0m \u001b[0mm\u001b[0m\u001b[0;34m,\u001b[0m\u001b[0mn\u001b[0m \u001b[0;32min\u001b[0m \u001b[0mzip\u001b[0m\u001b[0;34m(\u001b[0m\u001b[0mbd_path\u001b[0m\u001b[0;34m,\u001b[0m \u001b[0mgbf_path\u001b[0m\u001b[0;34m)\u001b[0m\u001b[0;34m]\u001b[0m\u001b[0;34m)\u001b[0m\u001b[0;34m,\u001b[0m \u001b[0;34m\"Different paths encountered\"\u001b[0m\u001b[0;34m\u001b[0m\u001b[0;34m\u001b[0m\u001b[0m\n",
            "\u001b[0;31mAssertionError\u001b[0m: Bidirectional did not find path"
          ]
        }
      ]
    },
    {
      "cell_type": "code",
      "source": [
        "  # FILL IN THIS SECTION\n",
        "\n",
        "  # Observe Figure 3.3 in AIMA, which show a robot cleaning a 2-tile room.\n",
        "  # Use the GraphNode class as defined to implement the graph shown in the Figure\n",
        "  # Do not make changes to the GraphNode Class\n",
        "\n",
        "  # All 8 nodes depicted in the textbook should be included in your graph.\n",
        "  # Use the add_neighbor function to connect nodes\n",
        "\n",
        "  # The electrical energy used my moving the robot Left or Right is 2 Joules\n",
        "  # The electrical energy used by the Suck action is 3 Joules\n",
        "\n",
        "  #level 1\n",
        "  left_dirty_dirty = GraphNode(\"011\")\n",
        "  right_dirty_dirty = GraphNode(\"111\")\n",
        "  #level 2\n",
        "  left_clean_dirty = GraphNode(\"001\")\n",
        "  right_clean_dirty = GraphNode(\"101\")\n",
        "  left_dirty_clean = GraphNode(\"010\")\n",
        "  right_dirty_clean = GraphNode(\"110\")\n",
        "  #level 3\n",
        "  left_clean_clean = GraphNode(\"000\")\n",
        "  right_clean_clean = GraphNode(\"100\")\n",
        "\n",
        "  #level 1\n",
        "  add_neighbor(left_dirty_dirty, right_dirty_dirty, 2)\n",
        "  add_neighbor(left_dirty_dirty, left_clean_dirty, 3)\n",
        "  add_neighbor(right_dirty_dirty, right_dirty_clean, 3)\n",
        "  #level 2\n",
        "  add_neighbor(left_clean_dirty, right_clean_dirty, 2)\n",
        "  add_neighbor(right_clean_dirty, right_clean_clean, 3)\n",
        "  add_neighbor(left_dirty_clean, right_dirty_clean, 2)\n",
        "  add_neighbor(left_dirty_clean, left_clean_clean, 3)\n",
        "  #level 3\n",
        "  add_neighbor(left_clean_clean, right_clean_clean, 2)"
      ],
      "metadata": {
        "id": "dq2R6y__EOC-"
      },
      "execution_count": null,
      "outputs": []
    },
    {
      "cell_type": "code",
      "source": [
        "  # Checkpoint 4\n",
        "  # FILL IN THIS SECTION\n",
        "\n",
        "  # Use the Robot Vacuum graph you've created and any one of your search functions\n",
        "\n",
        "  # Your Initial State is both locations being dirty and the robot on the left\n",
        "  # Print the path to a node with both locations clean that uses the least electrical energy\n",
        "  # You can end with the robot on the Left or Right\n",
        "\n",
        "  uc_path = uniform_cost(left_dirty_dirty, right_clean_clean)\n",
        "  assert uc_path != None, \"Uniform Cost did not find a path\"\n",
        "  assert uc_path == [left_dirty_dirty, left_clean_dirty, right_clean_dirty, right_clean_clean], \"Uniform cost found wrong path\""
      ],
      "metadata": {
        "id": "NkSwItUzG6Tv"
      },
      "execution_count": null,
      "outputs": []
    }
  ]
}